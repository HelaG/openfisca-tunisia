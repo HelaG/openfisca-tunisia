{
 "cells": [
  {
   "cell_type": "markdown",
   "metadata": {},
   "source": [
    "# Démonstration - openfisca-tunisia\n",
    "Retrouvez son code source ici : https://github.com/openfisca/openfisca-tunisia"
   ]
  },
  {
   "cell_type": "markdown",
   "metadata": {},
   "source": [
    "## Chargement des bibliothèques et initialisation"
   ]
  },
  {
   "cell_type": "code",
   "execution_count": null,
   "metadata": {
    "collapsed": false
   },
   "outputs": [],
   "source": [
    "import matplotlib.pyplot as plt\n",
    "import os\n",
    "import pandas as pd\n",
    "import pkg_resources\n",
    "\n",
    "%matplotlib inline\n",
    "\n",
    "from openfisca_tunisia.tunisia_taxbenefitsystem import TunisiaTaxBenefitSystem\n",
    "from openfisca_tunisia.survey_scenario import TunisiaSurveyScenario"
   ]
  },
  {
   "cell_type": "code",
   "execution_count": null,
   "metadata": {
    "collapsed": true
   },
   "outputs": [],
   "source": [
    "data_path = os.path.join(\n",
    "        pkg_resources.get_distribution('tunisia-pension').location,\n",
    "        'tunisia_pension',\n",
    "        'model',\n",
    "        'input',\n",
    "        'inidividus.csv')"
   ]
  },
  {
   "cell_type": "code",
   "execution_count": null,
   "metadata": {
    "collapsed": false
   },
   "outputs": [],
   "source": [
    "input_data_frame = pd.read_csv(data_path)\n",
    "input_data_frame['role_foyer_fiscal'] = 0\n",
    "input_data_frame['role_menage'] = 0\n",
    "input_data_frame['id_foyer_fiscal'] = range(len(input_data_frame))\n",
    "input_data_frame['id_menage'] = range(len(input_data_frame))\n",
    "input_data_frame['poids_foyer_fiscal'] = input_data_frame['poids_menage'] = input_data_frame.poids"
   ]
  },
  {
   "cell_type": "code",
   "execution_count": null,
   "metadata": {
    "collapsed": false
   },
   "outputs": [],
   "source": [
    "input_data_frame['salaire_de_base'] = input_data_frame.salaire / 1000"
   ]
  },
  {
   "cell_type": "code",
   "execution_count": null,
   "metadata": {
    "collapsed": false
   },
   "outputs": [],
   "source": [
    "scenario = TunisiaSurveyScenario(year = 2013, input_data_frame = input_data_frame)"
   ]
  },
  {
   "cell_type": "code",
   "execution_count": null,
   "metadata": {
    "collapsed": false
   },
   "outputs": [],
   "source": [
    "scenario.simulation.calculate_add('salaire_imposable', period = 2013).sum() / 1e6 * 33"
   ]
  },
  {
   "cell_type": "code",
   "execution_count": null,
   "metadata": {
    "collapsed": false
   },
   "outputs": [],
   "source": [
    "scenario.simulation.calculate('irpp', period = 2013).sum() / 1e6 * 33"
   ]
  },
  {
   "cell_type": "code",
   "execution_count": null,
   "metadata": {
    "collapsed": false
   },
   "outputs": [],
   "source": [
    "len(input_data_frame) * 33"
   ]
  },
  {
   "cell_type": "code",
   "execution_count": null,
   "metadata": {
    "collapsed": false
   },
   "outputs": [],
   "source": [
    "(\n",
    "    (scenario.simulation.calculate('irpp', period = 2013) < 0) * \n",
    "    scenario.simulation.calculate('poids_foyer_fiscal', period = 2013)\n",
    "    ).sum() / 1e6  # 1.800.200"
   ]
  },
  {
   "cell_type": "code",
   "execution_count": null,
   "metadata": {
    "collapsed": false
   },
   "outputs": [],
   "source": [
    "scenario.compute_aggregate('irpp', period = '2013') / 1e6  # 2.381.750.478"
   ]
  },
  {
   "cell_type": "code",
   "execution_count": null,
   "metadata": {
    "collapsed": false
   },
   "outputs": [],
   "source": [
    "abs(1.989 - 1.800) / 1.8"
   ]
  },
  {
   "cell_type": "code",
   "execution_count": null,
   "metadata": {
    "collapsed": false
   },
   "outputs": [],
   "source": [
    "(2589 - 2381.0) / 2381"
   ]
  },
  {
   "cell_type": "code",
   "execution_count": null,
   "metadata": {
    "collapsed": true
   },
   "outputs": [],
   "source": []
  }
 ],
 "metadata": {
  "kernelspec": {
   "display_name": "Python 2",
   "language": "python",
   "name": "python2"
  },
  "language_info": {
   "codemirror_mode": {
    "name": "ipython",
    "version": 2
   },
   "file_extension": ".py",
   "mimetype": "text/x-python",
   "name": "python",
   "nbconvert_exporter": "python",
   "pygments_lexer": "ipython2",
   "version": "2.7.14"
  }
 },
 "nbformat": 4,
 "nbformat_minor": 2
}
